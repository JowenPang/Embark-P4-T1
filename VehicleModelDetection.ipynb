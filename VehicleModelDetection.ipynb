{
  "nbformat": 4,
  "nbformat_minor": 0,
  "metadata": {
    "colab": {
      "name": "VehicleModelDetection.ipynb",
      "provenance": [],
      "authorship_tag": "ABX9TyOS1k/uSOeZpgcH+ePmy9zX",
      "include_colab_link": true
    },
    "kernelspec": {
      "name": "python3",
      "display_name": "Python 3"
    },
    "language_info": {
      "name": "python"
    }
  },
  "cells": [
    {
      "cell_type": "markdown",
      "metadata": {
        "id": "view-in-github",
        "colab_type": "text"
      },
      "source": [
        "<a href=\"https://colab.research.google.com/github/JowenPang/Embark-P4-T1/blob/main/VehicleModelDetection.ipynb\" target=\"_parent\"><img src=\"https://colab.research.google.com/assets/colab-badge.svg\" alt=\"Open In Colab\"/></a>"
      ]
    },
    {
      "cell_type": "code",
      "execution_count": 122,
      "metadata": {
        "id": "o6C03l5YpDWG"
      },
      "outputs": [],
      "source": [
        "import numpy as np\n",
        "import cv2\n",
        "import matplotlib.pyplot as plt\n",
        "import glob\n",
        "\n",
        "import PIL.Image as Image\n",
        "import os\n",
        "\n",
        "import matplotlib.pylab as plt\n",
        "\n",
        "import tensorflow as tf\n",
        "import tensorflow_hub as hub\n",
        "\n",
        "from tensorflow import keras\n",
        "from tensorflow.keras import layers\n",
        "from tensorflow.keras.models import Sequential\n",
        "\n",
        "from keras.models import Model, Sequential\n",
        "from keras.layers import Dense, Flatten, Conv2D, MaxPooling2D\n",
        "from keras.layers import BatchNormalization\n",
        "import seaborn as sns\n"
      ]
    },
    {
      "cell_type": "code",
      "source": [
        "from google.colab import drive\n",
        "drive.mount('/content/drive')"
      ],
      "metadata": {
        "colab": {
          "base_uri": "https://localhost:8080/"
        },
        "id": "hpXpPrwsqINz",
        "outputId": "6dbf5337-24c4-4e17-cea5-ec2d0f4822dd"
      },
      "execution_count": 123,
      "outputs": [
        {
          "output_type": "stream",
          "name": "stdout",
          "text": [
            "Drive already mounted at /content/drive; to attempt to forcibly remount, call drive.mount(\"/content/drive\", force_remount=True).\n"
          ]
        }
      ]
    },
    {
      "cell_type": "code",
      "source": [
        "import pathlib"
      ],
      "metadata": {
        "id": "uX7Hixc9Qa3I"
      },
      "execution_count": 124,
      "outputs": []
    },
    {
      "cell_type": "code",
      "source": [
        "train_path = pathlib.Path('/content/drive/MyDrive/P4 - Team 1/Train')\n",
        "test_path = pathlib.Path('/content/drive/MyDrive/P4 - Team 1/Test')"
      ],
      "metadata": {
        "id": "eovHR9KBvILS"
      },
      "execution_count": 175,
      "outputs": []
    },
    {
      "cell_type": "code",
      "source": [
        "train_path"
      ],
      "metadata": {
        "colab": {
          "base_uri": "https://localhost:8080/"
        },
        "id": "sudtHp9yQqVf",
        "outputId": "6c4afbc5-4149-4e55-ef7b-44c2539bc138"
      },
      "execution_count": 176,
      "outputs": [
        {
          "output_type": "execute_result",
          "data": {
            "text/plain": [
              "PosixPath('/content/drive/MyDrive/P4 - Team 1/Train')"
            ]
          },
          "metadata": {},
          "execution_count": 176
        }
      ]
    },
    {
      "cell_type": "markdown",
      "source": [
        "**labelling the data**"
      ],
      "metadata": {
        "id": "vXwK-gHva62f"
      }
    },
    {
      "cell_type": "code",
      "source": [
        "model_images_dict = {\n",
        "    'audi_ev':  list(train_path.glob('audi etron sportback/*')),\n",
        "    'audi_nev':  list(train_path.glob('Audi A5 Coupe 2012/*')),\n",
        "    'bmw_ev':  list(train_path.glob('bmw i4/*')),\n",
        "    'bmw_nev':  list(train_path.glob('BMW X6 SUV 2012/*')),\n",
        "}"
      ],
      "metadata": {
        "id": "fLMteIPOQCHa"
      },
      "execution_count": 177,
      "outputs": []
    },
    {
      "cell_type": "code",
      "source": [
        "model_labels_dict = {\n",
        "    'audi_ev': 0,\n",
        "    'audi_nev': 1,\n",
        "    'bmw_ev': 2,\n",
        "    'bmw_nev' : 3\n",
        "}"
      ],
      "metadata": {
        "id": "UtXFjfVLQCLS"
      },
      "execution_count": 178,
      "outputs": []
    },
    {
      "cell_type": "code",
      "source": [
        "model_images_dict['audi_ev'][:5]"
      ],
      "metadata": {
        "colab": {
          "base_uri": "https://localhost:8080/"
        },
        "id": "GJIutOdqSdhI",
        "outputId": "38fef2cf-adef-47b5-c2be-d36a2d9be9de"
      },
      "execution_count": 179,
      "outputs": [
        {
          "output_type": "execute_result",
          "data": {
            "text/plain": [
              "[PosixPath('/content/drive/MyDrive/P4 - Team 1/Train/audi etron sportback/1.jpg'),\n",
              " PosixPath('/content/drive/MyDrive/P4 - Team 1/Train/audi etron sportback/3.jfif'),\n",
              " PosixPath('/content/drive/MyDrive/P4 - Team 1/Train/audi etron sportback/4.jfif'),\n",
              " PosixPath('/content/drive/MyDrive/P4 - Team 1/Train/audi etron sportback/5.jfif'),\n",
              " PosixPath('/content/drive/MyDrive/P4 - Team 1/Train/audi etron sportback/7.jfif')]"
            ]
          },
          "metadata": {},
          "execution_count": 179
        }
      ]
    },
    {
      "cell_type": "code",
      "source": [
        "car_img = cv2.imread(str(model_images_dict['audi_ev'][2]))\n",
        "car_img.shape"
      ],
      "metadata": {
        "colab": {
          "base_uri": "https://localhost:8080/"
        },
        "id": "R8HZLKdNSpGJ",
        "outputId": "42b7601f-3dfb-4b85-860d-88f625a1619a"
      },
      "execution_count": 180,
      "outputs": [
        {
          "output_type": "execute_result",
          "data": {
            "text/plain": [
              "(168, 300, 3)"
            ]
          },
          "metadata": {},
          "execution_count": 180
        }
      ]
    },
    {
      "cell_type": "markdown",
      "source": [
        "**processing image**"
      ],
      "metadata": {
        "id": "EqvwXbUMbG44"
      }
    },
    {
      "cell_type": "code",
      "source": [
        "model_image, model_label = [], []\n",
        "\n",
        "for model_name, images in model_images_dict.items():\n",
        "    for image in images:\n",
        "        img = cv2.imread(str(image))\n",
        "        resized_img = cv2.resize(img,(224,224))\n",
        "        model_image.append(resized_img)\n",
        "        model_label.append(model_labels_dict[model_name])"
      ],
      "metadata": {
        "id": "z9TPu_oaSdjF"
      },
      "execution_count": 181,
      "outputs": []
    },
    {
      "cell_type": "code",
      "source": [
        "model_image = np.array(model_image)\n",
        "model_label = np.array(model_label)"
      ],
      "metadata": {
        "id": "YpbP2qXuSdme"
      },
      "execution_count": 182,
      "outputs": []
    },
    {
      "cell_type": "code",
      "source": [
        "from sklearn.model_selection import train_test_split\n",
        "X_train, X_test, y_train, y_test = train_test_split(model_image,model_label , random_state=0)"
      ],
      "metadata": {
        "id": "ChAkiPgGThrf"
      },
      "execution_count": 183,
      "outputs": []
    },
    {
      "cell_type": "code",
      "source": [
        "X_train_scaled = X_train / 255\n",
        "X_test_scaled = X_test / 255"
      ],
      "metadata": {
        "id": "x9r1a6l4Thts"
      },
      "execution_count": 184,
      "outputs": []
    },
    {
      "cell_type": "code",
      "source": [
        "model_image[6].shape"
      ],
      "metadata": {
        "colab": {
          "base_uri": "https://localhost:8080/"
        },
        "id": "KpiTsPk3Thv7",
        "outputId": "b10fbbe1-bb33-4a2f-e759-f6aa4a2a52ba"
      },
      "execution_count": 185,
      "outputs": [
        {
          "output_type": "execute_result",
          "data": {
            "text/plain": [
              "(224, 224, 3)"
            ]
          },
          "metadata": {},
          "execution_count": 185
        }
      ]
    },
    {
      "cell_type": "code",
      "source": [
        "feature_extractor_model = \"https://tfhub.dev/google/tf2-preview/mobilenet_v2/feature_vector/4\""
      ],
      "metadata": {
        "id": "mQwfD8MAThzZ"
      },
      "execution_count": 186,
      "outputs": []
    },
    {
      "cell_type": "code",
      "source": [
        "pretrained_model_without_top_layer = hub.KerasLayer(\n",
        "    feature_extractor_model, input_shape=(224, 224, 3), trainable=False)"
      ],
      "metadata": {
        "id": "uLV-67NhVIxa"
      },
      "execution_count": 187,
      "outputs": []
    },
    {
      "cell_type": "code",
      "source": [
        "num_of_cars_models = 4"
      ],
      "metadata": {
        "id": "wmqPQp0PVI0a"
      },
      "execution_count": 192,
      "outputs": []
    },
    {
      "cell_type": "code",
      "source": [
        "model = tf.keras.Sequential([\n",
        "  pretrained_model_without_top_layer,\n",
        "  tf.keras.layers.Dense(num_of_cars_models)\n",
        "])"
      ],
      "metadata": {
        "id": "2ZeRC9iHVI27"
      },
      "execution_count": 193,
      "outputs": []
    },
    {
      "cell_type": "code",
      "source": [
        "model.summary()"
      ],
      "metadata": {
        "colab": {
          "base_uri": "https://localhost:8080/"
        },
        "id": "-d1MZq2jVI5q",
        "outputId": "bc9f0173-9f10-4df1-a46b-9e4912b7f016"
      },
      "execution_count": 194,
      "outputs": [
        {
          "output_type": "stream",
          "name": "stdout",
          "text": [
            "Model: \"sequential_5\"\n",
            "_________________________________________________________________\n",
            " Layer (type)                Output Shape              Param #   \n",
            "=================================================================\n",
            " keras_layer_4 (KerasLayer)  (None, 1280)              2257984   \n",
            "                                                                 \n",
            " dense_4 (Dense)             (None, 4)                 5124      \n",
            "                                                                 \n",
            "=================================================================\n",
            "Total params: 2,263,108\n",
            "Trainable params: 5,124\n",
            "Non-trainable params: 2,257,984\n",
            "_________________________________________________________________\n"
          ]
        }
      ]
    },
    {
      "cell_type": "code",
      "source": [
        "model.compile(\n",
        "  optimizer=\"adam\",\n",
        "  loss=tf.keras.losses.SparseCategoricalCrossentropy(from_logits=True),\n",
        "  metrics=['acc'])"
      ],
      "metadata": {
        "id": "gXUS4MGQVI_q"
      },
      "execution_count": 195,
      "outputs": []
    },
    {
      "cell_type": "code",
      "source": [
        "model.fit(X_train_scaled, y_train, epochs=7)"
      ],
      "metadata": {
        "colab": {
          "base_uri": "https://localhost:8080/"
        },
        "id": "WEEW28ZjVVL_",
        "outputId": "64b18697-4eec-4d8d-db76-50bb62c7935b"
      },
      "execution_count": 196,
      "outputs": [
        {
          "output_type": "stream",
          "name": "stdout",
          "text": [
            "Epoch 1/7\n",
            "4/4 [==============================] - 7s 668ms/step - loss: 1.5082 - acc: 0.2358\n",
            "Epoch 2/7\n",
            "4/4 [==============================] - 3s 640ms/step - loss: 1.2061 - acc: 0.4245\n",
            "Epoch 3/7\n",
            "4/4 [==============================] - 3s 641ms/step - loss: 0.9778 - acc: 0.7075\n",
            "Epoch 4/7\n",
            "4/4 [==============================] - 3s 646ms/step - loss: 0.8258 - acc: 0.7925\n",
            "Epoch 5/7\n",
            "4/4 [==============================] - 3s 652ms/step - loss: 0.6899 - acc: 0.8774\n",
            "Epoch 6/7\n",
            "4/4 [==============================] - 3s 635ms/step - loss: 0.5985 - acc: 0.8962\n",
            "Epoch 7/7\n",
            "4/4 [==============================] - 3s 629ms/step - loss: 0.5153 - acc: 0.9151\n"
          ]
        },
        {
          "output_type": "execute_result",
          "data": {
            "text/plain": [
              "<keras.callbacks.History at 0x7faccdc02050>"
            ]
          },
          "metadata": {},
          "execution_count": 196
        }
      ]
    },
    {
      "cell_type": "code",
      "source": [
        "model.evaluate(X_test_scaled,y_test)"
      ],
      "metadata": {
        "colab": {
          "base_uri": "https://localhost:8080/"
        },
        "id": "CtsdBYVaVVOt",
        "outputId": "c9ea414d-8475-4720-fc52-f84613cefe7d"
      },
      "execution_count": 197,
      "outputs": [
        {
          "output_type": "stream",
          "name": "stdout",
          "text": [
            "2/2 [==============================] - 1s 113ms/step - loss: 0.8290 - acc: 0.6667\n"
          ]
        },
        {
          "output_type": "execute_result",
          "data": {
            "text/plain": [
              "[0.8289647698402405, 0.6666666865348816]"
            ]
          },
          "metadata": {},
          "execution_count": 197
        }
      ]
    },
    {
      "cell_type": "markdown",
      "source": [
        "**predict image**"
      ],
      "metadata": {
        "id": "eY28CXp9d3RG"
      }
    },
    {
      "cell_type": "code",
      "source": [
        "predict_img = '/content/drive/MyDrive/P4 - Team 1/bmw_ev.jfif'"
      ],
      "metadata": {
        "id": "EFhIt-oFVVTd"
      },
      "execution_count": 213,
      "outputs": []
    },
    {
      "cell_type": "code",
      "source": [
        "image = cv2.imread(str(predict_img))\n",
        "image.shape"
      ],
      "metadata": {
        "colab": {
          "base_uri": "https://localhost:8080/"
        },
        "id": "rN9HoB1EYg8i",
        "outputId": "c4cba3d8-1e76-47d7-8b98-d2df2ad35a95"
      },
      "execution_count": 214,
      "outputs": [
        {
          "output_type": "execute_result",
          "data": {
            "text/plain": [
              "(164, 308, 3)"
            ]
          },
          "metadata": {},
          "execution_count": 214
        }
      ]
    },
    {
      "cell_type": "code",
      "source": [
        "Image.open(predict_img).resize((224,224))"
      ],
      "metadata": {
        "colab": {
          "base_uri": "https://localhost:8080/",
          "height": 241
        },
        "id": "1YpCjTkbc8CW",
        "outputId": "58137ca2-a5e9-4197-81fc-ce0d06e3f7d6"
      },
      "execution_count": 215,
      "outputs": [
        {
          "output_type": "execute_result",
          "data": {
            "image/png": "[encoded data removed]",
            "text/plain": [
              "<PIL.Image.Image image mode=RGB size=224x224 at 0x7FACCE843CD0>"
            ]
          },
          "metadata": {},
          "execution_count": 215
        }
      ]
    },
    {
      "cell_type": "code",
      "source": [
        "\n",
        "image = cv2.resize(image,(224,224))\n",
        "image = np.array(image)\n",
        "image = np.expand_dims(image, axis=0)\n",
        "image = image/255.0\n"
      ],
      "metadata": {
        "id": "JJq03ELTVVWu"
      },
      "execution_count": 216,
      "outputs": []
    },
    {
      "cell_type": "code",
      "source": [
        "y_prob = model.predict(image)\n",
        "y_prob"
      ],
      "metadata": {
        "colab": {
          "base_uri": "https://localhost:8080/"
        },
        "id": "D8sfGd9JYYZW",
        "outputId": "fae57c49-daa8-4c2d-a32f-0540c5e9216f"
      },
      "execution_count": 217,
      "outputs": [
        {
          "output_type": "execute_result",
          "data": {
            "text/plain": [
              "array([[-1.518282 , -0.7998482,  1.6329339, -2.3489318]], dtype=float32)"
            ]
          },
          "metadata": {},
          "execution_count": 217
        }
      ]
    },
    {
      "cell_type": "markdown",
      "source": [
        "**0 - Audi A5 Coupe 2012 (non-EV)**\n",
        "\n",
        "\n",
        "**1 - Audi Etron Sportback (EV)**"
      ],
      "metadata": {
        "id": "gEPuzH9FfE71"
      }
    },
    {
      "cell_type": "code",
      "source": [
        "y_classes = np.argmax(y_prob)\n",
        "y_classes"
      ],
      "metadata": {
        "colab": {
          "base_uri": "https://localhost:8080/"
        },
        "id": "iAAr7gTAVIDY",
        "outputId": "ed8a89c1-9e68-434f-eaff-3d2e651dc15e"
      },
      "execution_count": 218,
      "outputs": [
        {
          "output_type": "execute_result",
          "data": {
            "text/plain": [
              "2"
            ]
          },
          "metadata": {},
          "execution_count": 218
        }
      ]
    },
    {
      "cell_type": "code",
      "source": [
        ""
      ],
      "metadata": {
        "id": "-neCURY0Odjp"
      },
      "execution_count": null,
      "outputs": []
    },
    {
      "cell_type": "code",
      "source": [
        ""
      ],
      "metadata": {
        "id": "URxtnro8sM1x"
      },
      "execution_count": null,
      "outputs": []
    }
  ]
}